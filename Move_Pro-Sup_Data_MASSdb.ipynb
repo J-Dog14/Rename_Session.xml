{
 "cells": [
  {
   "cell_type": "code",
   "id": "initial_id",
   "metadata": {
    "collapsed": true,
    "ExecuteTime": {
     "end_time": "2024-12-20T21:37:08.942126Z",
     "start_time": "2024-12-20T21:37:03.464906Z"
    }
   },
   "source": [
    "import pandas as pd\n",
    "import sqlite3\n",
    "import os\n",
    "import tkinter as tk\n",
    "from tkinter import filedialog\n",
    "import xml.etree.ElementTree as ET\n",
    "from datetime import datetime\n",
    "\n",
    "# Ask user to select folder containing the Session XML file\n",
    "root = tk.Tk()\n",
    "root.withdraw()  # Hide the root window\n",
    "selected_folder = filedialog.askdirectory(initialdir='D:/Pro-Sup Test/Data/')\n",
    "if not selected_folder:\n",
    "    raise ValueError(\"No folder was selected.\")\n",
    "\n",
    "# Extract the test_date from the selected folder name\n",
    "folder_name = os.path.basename(selected_folder)\n",
    "test_date = folder_name.split('_', 1)[0]  # Extract '2024-08-13' from '2024-08-13_105_Growth Plate_'\n",
    "\n",
    "# Find the XML file titled \"Session\" in the selected folder\n",
    "xml_file_path = ''\n",
    "for r, dirs, files in os.walk(selected_folder):\n",
    "    for file in files:\n",
    "        if file.lower().startswith('session') and file.lower().endswith('.xml'):\n",
    "            xml_file_path = os.path.join(r, file)\n",
    "            break\n",
    "    if xml_file_path:\n",
    "        break\n",
    "\n",
    "if not xml_file_path:\n",
    "    raise FileNotFoundError(\"No 'Session' XML file found in the selected folder.\")\n",
    "\n",
    "# Parse the XML file\n",
    "tree = ET.parse(xml_file_path)\n",
    "root_xml = tree.getroot()\n",
    "\n",
    "# Extract required fields from XML\n",
    "name = root_xml.find(\".//Name\").text\n",
    "dob = root_xml.find(\".//DOB\").text\n",
    "height = root_xml.find(\".//Height\").text\n",
    "weight = root_xml.find(\".//Weight\").text\n",
    "injury_history = root_xml.find(\".//Injury_History\").text\n",
    "season_phase = root_xml.find(\".//Season_Phase\").text\n",
    "dynomometer_score = root_xml.find(\".//Dynomometer_Score\").text\n",
    "comments = root_xml.find(\".//Comments\").text\n",
    "\n",
    "# Calculate age from DOB\n",
    "dob_date = datetime.strptime(dob, \"%Y-%m-%d\")\n",
    "today = datetime.today()\n",
    "age = today.year - dob_date.year - ((today.month, today.day) < (dob_date.month, dob_date.day))\n",
    "\n",
    "# Define final columns\n",
    "final_columns = [\n",
    "    'name', 'test_date', 'age', 'height', 'weight', 'injury_history', 'season_phase', 'dynomometer_score', 'comments',\n",
    "    'forearm_rom_0to10', 'forearm_rom_10to20', 'forearm_rom_20to30', 'forearm_rom',\n",
    "    'tot_rom_0to10', 'tot_rom_10to20', 'tot_rom_20to30', 'tot_rom',\n",
    "    'num_of_flips_0_10', 'num_of_flips_10_20', 'num_of_flips_20_30', 'num_of_flips',\n",
    "    'avg_velo_0_10', 'avg_velo_10_20', 'avg_velo_20_30', 'avg_velo'\n",
    "]\n",
    "\n",
    "# Create a DataFrame with XML data and NULL for ASCII columns\n",
    "data = {\n",
    "    'name': name,\n",
    "    'test_date': test_date,\n",
    "    'age': age,\n",
    "    'height': height,\n",
    "    'weight': weight,\n",
    "    'injury_history': injury_history,\n",
    "    'season_phase': season_phase,\n",
    "    'dynomometer_score': dynomometer_score,\n",
    "    'comments': comments,\n",
    "    'forearm_rom_0to10': None,\n",
    "    'forearm_rom_10to20': None,\n",
    "    'forearm_rom_20to30': None,\n",
    "    'forearm_rom': None,\n",
    "    'tot_rom_0to10': None,\n",
    "    'tot_rom_10to20': None,\n",
    "    'tot_rom_20to30': None,\n",
    "    'tot_rom': None,\n",
    "    'num_of_flips_0_10': None,\n",
    "    'num_of_flips_10_20': None,\n",
    "    'num_of_flips_20_30': None,\n",
    "    'num_of_flips': None,\n",
    "    'avg_velo_0_10': None,\n",
    "    'avg_velo_10_20': None,\n",
    "    'avg_velo_20_30': None,\n",
    "    'avg_velo': None\n",
    "}\n",
    "\n",
    "df = pd.DataFrame([data], columns=final_columns)\n",
    "\n",
    "# Connect to the SQLite database and create table if needed\n",
    "db_path = 'D:/Pro-Sup Test/pro-sup_data.sqlite'\n",
    "conn = sqlite3.connect(db_path)\n",
    "\n",
    "# Ensure table exists\n",
    "df.head(0).to_sql('pro_sup_data', conn, if_exists='append', index=False)\n",
    "\n",
    "# Insert the row with XML data and NULL ASCII columns\n",
    "df.to_sql('pro_sup_data', conn, if_exists='append', index=False)\n",
    "\n",
    "conn.close()\n",
    "\n",
    "print(f\"XML data inserted for {name} with test date {test_date}.\")\n"
   ],
   "outputs": [
    {
     "name": "stdout",
     "output_type": "stream",
     "text": [
      "XML data inserted for Dienes, Jacob with test date 2024-08-13.\n"
     ]
    }
   ],
   "execution_count": 38
  },
  {
   "metadata": {
    "ExecuteTime": {
     "end_time": "2024-12-20T21:37:08.965789Z",
     "start_time": "2024-12-20T21:37:08.943133Z"
    }
   },
   "cell_type": "code",
   "source": [
    "import os\n",
    "import pandas as pd\n",
    "import sqlite3\n",
    "\n",
    "# Extract test_date from folder name\n",
    "selected_folder = 'D:/Pro-Sup Test/Data/2024-08-13_105_Growth Plate_'\n",
    "folder_name = os.path.basename(selected_folder)\n",
    "test_date = folder_name.split('_', 1)[0]\n",
    "\n",
    "# Path to ASCII file\n",
    "text_file_path = 'D:/Pro-Sup Test/pro-sup_data.txt'\n",
    "\n",
    "with open(text_file_path, 'r') as file:\n",
    "    lines = file.readlines()\n",
    "    data = [line.strip().split('\\t') for line in lines]\n",
    "\n",
    "# Extract header and data rows\n",
    "header = data[1]\n",
    "df_data = [row[1:] for row in data[5:]]\n",
    "df_ascii = pd.DataFrame(df_data, columns=header)\n",
    "\n",
    "# Replace hyphens with underscores\n",
    "df_ascii.columns = [col.replace('-', '_') for col in df_ascii.columns]\n",
    "\n",
    "row_ascii = df_ascii.iloc[0]\n",
    "\n",
    "# Extract ASCII data\n",
    "values = {col: row_ascii.get(col) for col in df_ascii.columns}\n",
    "\n",
    "# Construct the UPDATE statement\n",
    "set_clause = \", \".join([f\"{col} = ?\" for col in values.keys()])\n",
    "params = list(values.values()) + [name, test_date]\n",
    "\n",
    "update_sql = f\"UPDATE pro_sup_data SET {set_clause} WHERE name = ? AND test_date = ?;\"\n",
    "\n",
    "conn = sqlite3.connect('D:/Pro-Sup Test/pro-sup_data.sqlite')\n",
    "cursor = conn.cursor()\n",
    "cursor.execute(update_sql, params)\n",
    "conn.commit()\n",
    "conn.close()\n",
    "\n",
    "print(f\"ASCII data updated for {name} on test date {test_date}.\")\n"
   ],
   "id": "6774779f4dcc6aaa",
   "outputs": [
    {
     "name": "stdout",
     "output_type": "stream",
     "text": [
      "ASCII data updated for Dienes, Jacob on test date 2024-08-13.\n"
     ]
    }
   ],
   "execution_count": 39
  },
  {
   "metadata": {
    "ExecuteTime": {
     "end_time": "2024-12-20T21:37:08.968700Z",
     "start_time": "2024-12-20T21:37:08.966295Z"
    }
   },
   "cell_type": "code",
   "source": "",
   "id": "24f6ebe318f5ef04",
   "outputs": [],
   "execution_count": 39
  }
 ],
 "metadata": {
  "kernelspec": {
   "display_name": "Python 3",
   "language": "python",
   "name": "python3"
  },
  "language_info": {
   "codemirror_mode": {
    "name": "ipython",
    "version": 2
   },
   "file_extension": ".py",
   "mimetype": "text/x-python",
   "name": "python",
   "nbconvert_exporter": "python",
   "pygments_lexer": "ipython2",
   "version": "2.7.6"
  }
 },
 "nbformat": 4,
 "nbformat_minor": 5
}
