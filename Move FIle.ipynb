{
 "cells": [
  {
   "cell_type": "code",
   "execution_count": null,
   "id": "initial_id",
   "metadata": {
    "collapsed": true
   },
   "outputs": [],
   "source": []
  },
  {
   "cell_type": "code",
   "outputs": [
    {
     "name": "stdout",
     "output_type": "stream",
     "text": [
      "File 'session_data.xml' copied and renamed to: H:/Pitching/Data/Weiss, Ryan 03-22\\temp_rename\\session_data_RW_10-20-22.xml\n",
      "File 'session_data_RW_10-20-22.xml' copied to: F:\\My Drive\\Pitching Data\\New Data\\session_data_RW_10-20-22.xml\n",
      "File 'session_RW_10-20-22.xml' moved to: C:\\Users\\q\\PycharmProjects\\Rename_Session.xml\\Pitching Data\\New Data\\session_RW_10-20-22.xml\n",
      "File 'session_data_RW_10-20-22.xml' moved to: C:\\Users\\q\\PycharmProjects\\Rename_Session.xml\\Pitching Data\\New Data\\session_data_RW_10-20-22.xml\n",
      "XML files copied successfully!\n"
     ]
    }
   ],
   "source": [
    "import os\n",
    "import shutil\n",
    "import sqlite3\n",
    "import xml.etree.ElementTree as ET\n",
    "import re\n",
    "import scipy.stats as stats\n",
    "import matplotlib.pyplot as plt\n",
    "from docx import Document\n",
    "from matplotlib.backends.backend_pdf import PdfPages\n",
    "import datetime\n",
    "import shutil\n",
    "import tkinter as tk\n",
    "from tkinter import filedialog\n",
    "from docx.shared import Pt, Inches\n",
    "from docx.enum.text import WD_PARAGRAPH_ALIGNMENT\n",
    "\n",
    "\n",
    "def select_folder():\n",
    "    root = tk.Tk()\n",
    "    root.withdraw()  # Hide the main window\n",
    "\n",
    "    folder_path = filedialog.askdirectory(initialdir=r\"H:\\Pitching\\Data\", title=\"Select Folder\")\n",
    "    if folder_path:\n",
    "        copy_and_move_files(folder_path)\n",
    "\n",
    "\n",
    "def extract_initials(folder_name):\n",
    "    initials = ''.join(filter(str.isupper, folder_name))\n",
    "    return initials[::-1]  # Reverse the initials\n",
    "\n",
    "\n",
    "def copy_and_move_files(base_path):\n",
    "    # Get the base folder name\n",
    "    base_folder = os.path.basename(base_path)\n",
    "\n",
    "    # Get list of folders in the base path\n",
    "    folders = [f for f in os.listdir(base_path) if os.path.isdir(os.path.join(base_path, f))]\n",
    "    # Sort folders by creation time\n",
    "    folders.sort(key=lambda x: os.path.getctime(os.path.join(base_path, x)), reverse=True)\n",
    "\n",
    "    if not folders:\n",
    "        print(\"No folders found in the specified directory.\")\n",
    "        return\n",
    "\n",
    "    latest_folder = folders[0]\n",
    "    folder_path = os.path.join(base_path, latest_folder)\n",
    "\n",
    "    # Get creation time of the latest folder\n",
    "    creation_time = os.path.getctime(folder_path)\n",
    "    creation_date = datetime.datetime.fromtimestamp(creation_time).strftime('%m-%d-%y')\n",
    "\n",
    "    # Find the files to copy and rename\n",
    "    files_to_copy_rename = []\n",
    "    for file in os.listdir(folder_path):\n",
    "        if file.lower() == 'session.xml' or file.lower() == 'session_data.xml':\n",
    "            files_to_copy_rename.append(file)\n",
    "\n",
    "    if not files_to_copy_rename:\n",
    "        print(\"No XML files named 'session.xml' or 'session_data.xml' found in the latest folder.\")\n",
    "        return\n",
    "\n",
    "    # Construct new file names\n",
    "    new_file_names = []\n",
    "    initials = extract_initials(base_folder)\n",
    "    for file in files_to_copy_rename:\n",
    "        if file.lower() == 'session.xml':\n",
    "            new_file_name = f\"session_{initials}_{creation_date}.xml\"\n",
    "        elif file.lower() == 'session_data.xml':\n",
    "            new_file_name = f\"session_data_{initials}_{creation_date}.xml\"\n",
    "        else:\n",
    "            continue\n",
    "        new_file_names.append(new_file_name)\n",
    "\n",
    "    # Create temporary directory to store renamed copies\n",
    "    temp_dir = os.path.join(base_path, \"temp_rename\")\n",
    "    if not os.path.exists(temp_dir):\n",
    "        os.makedirs(temp_dir)\n",
    "\n",
    "    # Copy and rename the files to the temporary directory\n",
    "    for original_file, new_file_name in zip(files_to_copy_rename, new_file_names):\n",
    "        original_file_path = os.path.join(folder_path, original_file)\n",
    "        new_file_path = os.path.join(temp_dir, new_file_name)\n",
    "        shutil.copyfile(original_file_path, new_file_path)\n",
    "        print(f\"File '{original_file}' copied and renamed to: {new_file_path}\")\n",
    "\n",
    "    # Copy the renamed files to the destination folder\n",
    "    new_folder_path = r\"F:\\My Drive\\Pitching Data\\New Data\"\n",
    "    if not os.path.exists(new_folder_path):\n",
    "        os.makedirs(new_folder_path)\n",
    "    for new_file_name in new_file_names:\n",
    "        temp_file_path = os.path.join(temp_dir, new_file_name)\n",
    "        destination_file_path = os.path.join(new_folder_path, new_file_name)\n",
    "        shutil.copyfile(temp_file_path, destination_file_path)\n",
    "        print(f\"File '{new_file_name}' copied to: {destination_file_path}\")\n",
    "        \n",
    "# Prompt user to select the folder\n",
    "select_folder()\n",
    "\n",
    "\n",
    "# Source and destination directory paths\n",
    "source_dir = r\"F:\\My Drive\\Pitching Data\\New Data\"\n",
    "destination_dir = r\"C:\\Users\\q\\PycharmProjects\\Rename_Session.xml\\Pitching Data\\New Data\"\n",
    "\n",
    "# Iterate over files in the source directory\n",
    "for file_name in os.listdir(source_dir):\n",
    "    if file_name.endswith('.xml'):\n",
    "        source_file_path = os.path.join(source_dir, file_name)\n",
    "        destination_file_path = os.path.join(destination_dir, file_name)\n",
    "        shutil.move(source_file_path, destination_file_path)\n",
    "        print(f\"File '{file_name}' moved to: {destination_file_path}\")\n",
    "\n",
    "print(\"XML files copied successfully!\")"
   ],
   "metadata": {
    "collapsed": false,
    "ExecuteTime": {
     "end_time": "2024-04-02T21:42:26.200378Z",
     "start_time": "2024-04-02T21:42:13.577280Z"
    }
   },
   "id": "2af357d24abf3884",
   "execution_count": 4
  },
  {
   "cell_type": "code",
   "outputs": [],
   "source": [],
   "metadata": {
    "collapsed": false,
    "ExecuteTime": {
     "end_time": "2024-04-02T21:42:11.127909Z",
     "start_time": "2024-04-02T21:42:11.124019Z"
    }
   },
   "id": "364bc310c3695853",
   "execution_count": 3
  },
  {
   "cell_type": "code",
   "outputs": [],
   "source": [],
   "metadata": {
    "collapsed": false
   },
   "id": "669150d971a406b9"
  }
 ],
 "metadata": {
  "kernelspec": {
   "display_name": "Python 3",
   "language": "python",
   "name": "python3"
  },
  "language_info": {
   "codemirror_mode": {
    "name": "ipython",
    "version": 2
   },
   "file_extension": ".py",
   "mimetype": "text/x-python",
   "name": "python",
   "nbconvert_exporter": "python",
   "pygments_lexer": "ipython2",
   "version": "2.7.6"
  }
 },
 "nbformat": 4,
 "nbformat_minor": 5
}
