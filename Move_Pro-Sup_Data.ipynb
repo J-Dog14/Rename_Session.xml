{
 "cells": [
  {
   "cell_type": "code",
   "id": "initial_id",
   "metadata": {
    "collapsed": true,
    "ExecuteTime": {
     "end_time": "2024-12-18T19:33:34.081793Z",
     "start_time": "2024-12-18T19:33:32.061235Z"
    }
   },
   "source": [
    "import pandas as pd\n",
    "from openpyxl import load_workbook\n",
    "\n",
    "# Define file paths\n",
    "text_file_path = 'D:/Pro-Sup Test/pro-sup_data.txt'\n",
    "spreadsheet_path = 'D:/Pro-Sup Test/Mass pro-sup Data.xlsx'\n",
    "\n",
    "# Read data from text file\n",
    "with open(text_file_path, 'r') as file:\n",
    "    lines = file.readlines()\n",
    "    data = [line.strip().split('\\t') for line in lines]\n",
    "\n",
    "# Adjust the columns to ensure the correct number of columns\n",
    "header = data[3][1:]  # Skip the first column in the header\n",
    "if len(header) < 16:  # Adjust the condition since we are removing one column\n",
    "    header.append(\"extra_column\")\n",
    "\n",
    "# Convert data to DataFrame, skipping the unwanted header row and first column of data\n",
    "df = pd.DataFrame([row[1:] for row in data[5:]], columns=header)  # Skip the first column in the data\n",
    "\n",
    "# Load existing spreadsheet\n",
    "book = load_workbook(spreadsheet_path)\n",
    "sheet = book.active\n",
    "\n",
    "# Find the next empty row in column J starting from row 4\n",
    "for row in range(4, sheet.max_row + 2):\n",
    "    if sheet.cell(row=row, column=10).value is None:\n",
    "        start_row = row\n",
    "        break\n",
    "\n",
    "# Write DataFrame to the next empty row starting from cell J4\n",
    "for row_index, row in df.iterrows():\n",
    "    for col_index, value in enumerate(row):\n",
    "        sheet.cell(row=start_row + row_index, column=10 + col_index, value=value)\n",
    "\n",
    "# Save the updated spreadsheet\n",
    "book.save(spreadsheet_path)\n",
    "\n",
    "print(\"Data successfully added to the spreadsheet.\")\n"
   ],
   "outputs": [
    {
     "name": "stdout",
     "output_type": "stream",
     "text": [
      "Data successfully added to the spreadsheet.\n"
     ]
    }
   ],
   "execution_count": 1
  },
  {
   "metadata": {},
   "cell_type": "markdown",
   "source": "",
   "id": "b10bc215a5f1a747"
  },
  {
   "metadata": {
    "ExecuteTime": {
     "end_time": "2024-12-18T19:34:53.577968Z",
     "start_time": "2024-12-18T19:34:32.790007Z"
    }
   },
   "cell_type": "code",
   "source": [
    "import os\n",
    "import tkinter as tk\n",
    "from tkinter import filedialog\n",
    "import xml.etree.ElementTree as ET\n",
    "from datetime import datetime\n",
    "from openpyxl import load_workbook\n",
    "\n",
    "# Prompt user to select a folder starting with the specified path\n",
    "root = tk.Tk()\n",
    "root.withdraw()  # Hide the root window\n",
    "selected_folder = filedialog.askdirectory(initialdir='D:/Pro-Sup Test/Data/')\n",
    "\n",
    "# Find the XML file titled \"Session\" in the selected folder\n",
    "xml_file_path = ''\n",
    "for root, dirs, files in os.walk(selected_folder):\n",
    "    for file in files:\n",
    "        if file.lower().startswith('session') and file.lower().endswith('.xml'):\n",
    "            xml_file_path = os.path.join(root, file)\n",
    "            break\n",
    "    if xml_file_path:\n",
    "        break\n",
    "\n",
    "# Parse the XML file\n",
    "tree = ET.parse(xml_file_path)\n",
    "root = tree.getroot()\n",
    "\n",
    "# Extract required fields\n",
    "name = root.find(\".//Name\").text\n",
    "dob = root.find(\".//DOB\").text\n",
    "height = root.find(\".//Height\").text\n",
    "weight = root.find(\".//Weight\").text\n",
    "injury_history = root.find(\".//Injury_History\").text\n",
    "season_phase = root.find(\".//Season_Phase\").text\n",
    "dynomometer_score = root.find(\".//Dynomometer_Score\").text\n",
    "\n",
    "# Calculate age from DOB\n",
    "dob_date = datetime.strptime(dob, \"%Y-%m-%d\")\n",
    "today = datetime.today()\n",
    "age = today.year - dob_date.year - ((today.month, today.day) < (dob_date.month, dob_date.day))\n",
    "\n",
    "# Define the path to the spreadsheet\n",
    "spreadsheet_path = 'D:/Pro-Sup Test/Mass pro-sup Data.xlsx'\n",
    "\n",
    "# Load the existing spreadsheet\n",
    "book = load_workbook(spreadsheet_path)\n",
    "sheet = book.active\n",
    "\n",
    "# Find the next empty row starting from row 4\n",
    "start_row = 4\n",
    "while sheet.cell(row=start_row, column=3).value is not None:\n",
    "    start_row += 1\n",
    "\n",
    "# Insert data into the specified cells\n",
    "sheet[f'C{start_row}'] = name\n",
    "sheet[f'D{start_row}'] = age\n",
    "sheet[f'E{start_row}'] = height\n",
    "sheet[f'F{start_row}'] = weight\n",
    "sheet[f'G{start_row}'] = injury_history\n",
    "sheet[f'H{start_row}'] = season_phase\n",
    "sheet[f'I{start_row}'] = dynomometer_score\n",
    "\n",
    "# Save the updated spreadsheet\n",
    "book.save(spreadsheet_path)\n",
    "\n",
    "print(\"Data successfully added to the spreadsheet.\")\n"
   ],
   "id": "d84f76ecf2c3663e",
   "outputs": [
    {
     "name": "stdout",
     "output_type": "stream",
     "text": [
      "Data successfully added to the spreadsheet.\n"
     ]
    }
   ],
   "execution_count": 2
  },
  {
   "metadata": {
    "ExecuteTime": {
     "end_time": "2024-12-18T19:35:20.534218Z",
     "start_time": "2024-12-18T19:35:17.378537Z"
    }
   },
   "cell_type": "code",
   "source": [
    "import pandas as pd\n",
    "from openpyxl import load_workbook\n",
    "\n",
    "# Prompt user to select a folder starting with the specified path\n",
    "root = tk.Tk()\n",
    "root.withdraw()  # Hide the root window\n",
    "selected_folder = filedialog.askdirectory(initialdir='G:/My Drive/Pro-Sup Test/Data/New Data')\n",
    "\n",
    "# Define file paths\n",
    "spreadsheet_path = 'D:/Pro-Sup Test/Mass pro-sup Data.xlsx'\n",
    "\n",
    "# Read data from text file\n",
    "with open(text_file_path, 'r') as file:\n",
    "    lines = file.readlines()\n",
    "    data = [line.strip().split('\\t') for line in lines]\n",
    "\n",
    "# Adjust the columns to ensure the correct number of columns\n",
    "header = data[3][1:]  # Skip the first column in the header\n",
    "if len(header) < 16:  # Adjust the condition since we are removing one column\n",
    "    header.append(\"extra_column\")\n",
    "\n",
    "# Convert data to DataFrame, skipping the unwanted header row and first column of data\n",
    "df = pd.DataFrame([row[1:] for row in data[5:]], columns=header)  # Skip the first column in the data\n",
    "\n",
    "# Load existing spreadsheet\n",
    "book = load_workbook(spreadsheet_path)\n",
    "sheet = book.active\n",
    "\n",
    "# Find the next empty row in column J starting from row 4\n",
    "for row in range(4, sheet.max_row + 2):\n",
    "    if sheet.cell(row=row, column=10).value is None:\n",
    "        start_row = row\n",
    "        break\n",
    "\n",
    "# Write DataFrame to the next empty row starting from cell J4\n",
    "for row_index, row in df.iterrows():\n",
    "    for col_index, value in enumerate(row):\n",
    "        sheet.cell(row=start_row + row_index, column=10 + col_index, value=value)\n",
    "\n",
    "# Save the updated spreadsheet\n",
    "book.save(spreadsheet_path)\n",
    "\n",
    "print(\"Data successfully added to the spreadsheet.\")\n"
   ],
   "id": "afffeab93cf16e6d",
   "outputs": [
    {
     "name": "stdout",
     "output_type": "stream",
     "text": [
      "Data successfully added to the spreadsheet.\n"
     ]
    }
   ],
   "execution_count": 3
  },
  {
   "metadata": {
    "ExecuteTime": {
     "end_time": "2024-12-18T19:35:28.062236Z",
     "start_time": "2024-12-18T19:35:23.014512Z"
    }
   },
   "cell_type": "code",
   "source": [
    "import os\n",
    "import tkinter as tk\n",
    "from tkinter import filedialog\n",
    "import xml.etree.ElementTree as ET\n",
    "from datetime import datetime\n",
    "from openpyxl import load_workbook\n",
    "\n",
    "# Prompt user to select a folder starting with the specified path\n",
    "root = tk.Tk()\n",
    "root.withdraw()  # Hide the root window\n",
    "selected_folder = filedialog.askdirectory(initialdir='D:/Pro-Sup Test/Data/')\n",
    "\n",
    "# Find the XML file titled \"Session\" in the selected folder\n",
    "xml_file_path = ''\n",
    "for root, dirs, files in os.walk(selected_folder):\n",
    "    for file in files:\n",
    "        if file.lower().startswith('session') and file.lower().endswith('.xml'):\n",
    "            xml_file_path = os.path.join(root, file)\n",
    "            break\n",
    "    if xml_file_path:\n",
    "        break\n",
    "\n",
    "# Parse the XML file\n",
    "tree = ET.parse(xml_file_path)\n",
    "root = tree.getroot()\n",
    "\n",
    "# Extract required fields\n",
    "name = root.find(\".//Name\").text\n",
    "dob = root.find(\".//DOB\").text\n",
    "height = root.find(\".//Height\").text\n",
    "weight = root.find(\".//Weight\").text\n",
    "injury_history = root.find(\".//Injury_History\").text\n",
    "season_phase = root.find(\".//Season_Phase\").text\n",
    "dynomometer_score = root.find(\".//Dynomometer_Score\").text\n",
    "\n",
    "# Calculate age from DOB\n",
    "dob_date = datetime.strptime(dob, \"%Y-%m-%d\")\n",
    "today = datetime.today()\n",
    "age = today.year - dob_date.year - ((today.month, today.day) < (dob_date.month, dob_date.day))\n",
    "\n",
    "# Define the path to the spreadsheet\n",
    "spreadsheet_path = 'D:/Pro-Sup Test/Mass pro-sup Data.xlsx'\n",
    "\n",
    "# Load the existing spreadsheet\n",
    "book = load_workbook(spreadsheet_path)\n",
    "sheet = book.active\n",
    "\n",
    "# Find the next empty row starting from row 4\n",
    "start_row = 4\n",
    "while sheet.cell(row=start_row, column=3).value is not None:\n",
    "    start_row += 1\n",
    "\n",
    "# Insert data into the specified cells\n",
    "sheet[f'C{start_row}'] = name\n",
    "sheet[f'D{start_row}'] = age\n",
    "sheet[f'E{start_row}'] = height\n",
    "sheet[f'F{start_row}'] = weight\n",
    "sheet[f'G{start_row}'] = injury_history\n",
    "sheet[f'H{start_row}'] = season_phase\n",
    "sheet[f'I{start_row}'] = dynomometer_score\n",
    "\n",
    "# Save the updated spreadsheet\n",
    "book.save(spreadsheet_path)\n",
    "\n",
    "print(\"Data successfully added to the spreadsheet.\")"
   ],
   "id": "666b66b1105f41b",
   "outputs": [
    {
     "name": "stdout",
     "output_type": "stream",
     "text": [
      "Data successfully added to the spreadsheet.\n"
     ]
    }
   ],
   "execution_count": 4
  },
  {
   "metadata": {},
   "cell_type": "code",
   "outputs": [],
   "execution_count": null,
   "source": "",
   "id": "5815df1b78b124ad"
  }
 ],
 "metadata": {
  "kernelspec": {
   "display_name": "Python 3",
   "language": "python",
   "name": "python3"
  },
  "language_info": {
   "codemirror_mode": {
    "name": "ipython",
    "version": 2
   },
   "file_extension": ".py",
   "mimetype": "text/x-python",
   "name": "python",
   "nbconvert_exporter": "python",
   "pygments_lexer": "ipython2",
   "version": "2.7.6"
  }
 },
 "nbformat": 4,
 "nbformat_minor": 5
}
